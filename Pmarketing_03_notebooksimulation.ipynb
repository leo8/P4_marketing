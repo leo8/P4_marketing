{
 "cells": [
  {
   "cell_type": "code",
   "execution_count": 1,
   "id": "91cd38e9",
   "metadata": {},
   "outputs": [],
   "source": [
    "import pandas as pd\n",
    "from scipy import stats\n",
    "import numpy as np\n",
    "import pickle\n",
    "\n",
    "from sklearn.metrics import adjusted_rand_score"
   ]
  },
  {
   "cell_type": "code",
   "execution_count": 2,
   "id": "9c77a993",
   "metadata": {},
   "outputs": [],
   "source": [
    "data = pd.read_csv('preprocessed_data.csv')"
   ]
  },
  {
   "cell_type": "code",
   "execution_count": 3,
   "id": "fc9d885f",
   "metadata": {},
   "outputs": [],
   "source": [
    "with open(\"model.pkl\", \"rb\") as f:\n",
    "    model = pickle.load(f)"
   ]
  },
  {
   "cell_type": "code",
   "execution_count": 4,
   "id": "814e2265",
   "metadata": {
    "scrolled": true
   },
   "outputs": [
    {
     "data": {
      "text/plain": [
       "KMeans(max_iter=500, n_init=9, random_state=42, tol=1e-05)"
      ]
     },
     "execution_count": 4,
     "metadata": {},
     "output_type": "execute_result"
    }
   ],
   "source": [
    "model"
   ]
  },
  {
   "cell_type": "code",
   "execution_count": 5,
   "id": "d2fca458",
   "metadata": {},
   "outputs": [],
   "source": [
    "with open(\"transformer.pkl\", \"rb\") as f:\n",
    "    transformer = pickle.load(f)"
   ]
  },
  {
   "cell_type": "code",
   "execution_count": 6,
   "id": "40c2cdb6",
   "metadata": {},
   "outputs": [],
   "source": [
    "with open(\"reducer.pkl\", \"rb\") as f:\n",
    "    reducer = pickle.load(f)"
   ]
  },
  {
   "cell_type": "markdown",
   "id": "f3d7d048",
   "metadata": {},
   "source": [
    "## Segmentation du jeu de données"
   ]
  },
  {
   "cell_type": "markdown",
   "id": "5761f61e",
   "metadata": {},
   "source": [
    "On crée une liste de différents segments du dataframe, triés par mois, et échantillonés pour qu'ils aient la même taille entre février 2017 et octobre 2017. A chaque segment, on va appliquer le même transformer et le même reducer qui ont servi à l'entraînement de notre modèle."
   ]
  },
  {
   "cell_type": "code",
   "execution_count": 7,
   "id": "1375d4d1",
   "metadata": {},
   "outputs": [],
   "source": [
    "data['date_last_order'] = pd.to_datetime(data['date_last_order']).dt.to_period('M')"
   ]
  },
  {
   "cell_type": "code",
   "execution_count": 8,
   "id": "1f58d682",
   "metadata": {},
   "outputs": [
    {
     "data": {
      "text/plain": [
       "2017-11    6759\n",
       "2018-05    6745\n",
       "2018-03    6729\n",
       "2018-01    6547\n",
       "2018-08    6411\n",
       "2018-04    6390\n",
       "2018-02    6126\n",
       "2018-06    5971\n",
       "2018-07    5879\n",
       "2017-12    5344\n",
       "2017-10    4186\n",
       "2017-08    3917\n",
       "2017-09    3884\n",
       "2017-07    3568\n",
       "2017-05    3256\n",
       "2017-06    2900\n",
       "2017-03    2365\n",
       "2017-04    2100\n",
       "2017-02    1517\n",
       "2017-01     638\n",
       "2016-10     253\n",
       "Freq: M, Name: date_last_order, dtype: int64"
      ]
     },
     "execution_count": 8,
     "metadata": {},
     "output_type": "execute_result"
    }
   ],
   "source": [
    "data['date_last_order'].value_counts()"
   ]
  },
  {
   "cell_type": "markdown",
   "id": "d7b52db7",
   "metadata": {},
   "source": [
    "On sélectionne les périodes sur lesquelles on a au moins 2000 individus."
   ]
  },
  {
   "cell_type": "code",
   "execution_count": 9,
   "id": "9ab0c683",
   "metadata": {},
   "outputs": [],
   "source": [
    "l_dates = ['2017-03',\n",
    "           '2017-04',\n",
    "           '2017-05',\n",
    "           '2017-06',\n",
    "           '2017-07',\n",
    "           '2017-08',\n",
    "           '2017-09',\n",
    "           '2017-10',\n",
    "           '2017-11',\n",
    "           '2017-12',\n",
    "           '2018-01',\n",
    "           '2018-02',\n",
    "           '2018-03',\n",
    "           '2018-04',\n",
    "           '2018-05',\n",
    "           '2018-06',\n",
    "           '2018-07',\n",
    "           '2018-08'\n",
    "]"
   ]
  },
  {
   "cell_type": "code",
   "execution_count": 10,
   "id": "6e29dd16",
   "metadata": {},
   "outputs": [],
   "source": [
    "l_data = []\n",
    "\n",
    "for date in l_dates:\n",
    "    X = data[data['date_last_order'] == date].sample(n=2100, random_state=42)\n",
    "    X = X.drop(['Unnamed: 0', 'date_last_order'], axis=1)\n",
    "    embedded_X = reducer.transform(transformer.transform(X))\n",
    "    l_data.append(embedded_X)\n"
   ]
  },
  {
   "cell_type": "markdown",
   "id": "7be2462f",
   "metadata": {},
   "source": [
    "## Mesure de l'ARI"
   ]
  },
  {
   "cell_type": "code",
   "execution_count": 11,
   "id": "8da6f7b0",
   "metadata": {},
   "outputs": [],
   "source": [
    "from sklearn.cluster import KMeans\n",
    "\n",
    "X0 = l_data[0]\n",
    "\n",
    "model_0 = KMeans(max_iter=500, n_init=9, random_state=42, tol=1e-05)\n",
    "model_0.fit(X0)\n",
    "\n",
    "l_score_ARI = []\n",
    "\n",
    "for X in l_data:\n",
    "    \n",
    "    new_model = KMeans(max_iter=500, n_init=9, random_state=42, tol=1e-05)\n",
    "    new_model.fit_predict(X)\n",
    "    l_score_ARI.append(adjusted_rand_score(model_0.predict(X), new_model.labels_))\n",
    "    "
   ]
  },
  {
   "cell_type": "markdown",
   "id": "0bee2fc2",
   "metadata": {},
   "source": [
    "## Visualisation de la simulation"
   ]
  },
  {
   "cell_type": "code",
   "execution_count": 12,
   "id": "57a630ca",
   "metadata": {},
   "outputs": [],
   "source": [
    "ARI_simulation = pd.DataFrame()"
   ]
  },
  {
   "cell_type": "code",
   "execution_count": 13,
   "id": "895fdc2b",
   "metadata": {},
   "outputs": [],
   "source": [
    "ARI_simulation['Period'] = pd.Series(l_dates)\n",
    "ARI_simulation['ARI Score'] = pd.Series(l_score_ARI)"
   ]
  },
  {
   "cell_type": "code",
   "execution_count": 14,
   "id": "c072a07c",
   "metadata": {},
   "outputs": [
    {
     "data": {
      "text/html": [
       "<div>\n",
       "<style scoped>\n",
       "    .dataframe tbody tr th:only-of-type {\n",
       "        vertical-align: middle;\n",
       "    }\n",
       "\n",
       "    .dataframe tbody tr th {\n",
       "        vertical-align: top;\n",
       "    }\n",
       "\n",
       "    .dataframe thead th {\n",
       "        text-align: right;\n",
       "    }\n",
       "</style>\n",
       "<table border=\"1\" class=\"dataframe\">\n",
       "  <thead>\n",
       "    <tr style=\"text-align: right;\">\n",
       "      <th></th>\n",
       "      <th>Period</th>\n",
       "      <th>ARI Score</th>\n",
       "    </tr>\n",
       "  </thead>\n",
       "  <tbody>\n",
       "    <tr>\n",
       "      <th>0</th>\n",
       "      <td>2017-03</td>\n",
       "      <td>1.000000</td>\n",
       "    </tr>\n",
       "    <tr>\n",
       "      <th>1</th>\n",
       "      <td>2017-04</td>\n",
       "      <td>0.829897</td>\n",
       "    </tr>\n",
       "    <tr>\n",
       "      <th>2</th>\n",
       "      <td>2017-05</td>\n",
       "      <td>0.802712</td>\n",
       "    </tr>\n",
       "    <tr>\n",
       "      <th>3</th>\n",
       "      <td>2017-06</td>\n",
       "      <td>0.828709</td>\n",
       "    </tr>\n",
       "    <tr>\n",
       "      <th>4</th>\n",
       "      <td>2017-07</td>\n",
       "      <td>0.869943</td>\n",
       "    </tr>\n",
       "    <tr>\n",
       "      <th>5</th>\n",
       "      <td>2017-08</td>\n",
       "      <td>0.832311</td>\n",
       "    </tr>\n",
       "    <tr>\n",
       "      <th>6</th>\n",
       "      <td>2017-09</td>\n",
       "      <td>0.832942</td>\n",
       "    </tr>\n",
       "    <tr>\n",
       "      <th>7</th>\n",
       "      <td>2017-10</td>\n",
       "      <td>0.853089</td>\n",
       "    </tr>\n",
       "    <tr>\n",
       "      <th>8</th>\n",
       "      <td>2017-11</td>\n",
       "      <td>0.859914</td>\n",
       "    </tr>\n",
       "    <tr>\n",
       "      <th>9</th>\n",
       "      <td>2017-12</td>\n",
       "      <td>0.664008</td>\n",
       "    </tr>\n",
       "    <tr>\n",
       "      <th>10</th>\n",
       "      <td>2018-01</td>\n",
       "      <td>0.721739</td>\n",
       "    </tr>\n",
       "    <tr>\n",
       "      <th>11</th>\n",
       "      <td>2018-02</td>\n",
       "      <td>0.840594</td>\n",
       "    </tr>\n",
       "    <tr>\n",
       "      <th>12</th>\n",
       "      <td>2018-03</td>\n",
       "      <td>0.770458</td>\n",
       "    </tr>\n",
       "    <tr>\n",
       "      <th>13</th>\n",
       "      <td>2018-04</td>\n",
       "      <td>0.704194</td>\n",
       "    </tr>\n",
       "    <tr>\n",
       "      <th>14</th>\n",
       "      <td>2018-05</td>\n",
       "      <td>0.767061</td>\n",
       "    </tr>\n",
       "    <tr>\n",
       "      <th>15</th>\n",
       "      <td>2018-06</td>\n",
       "      <td>0.659710</td>\n",
       "    </tr>\n",
       "    <tr>\n",
       "      <th>16</th>\n",
       "      <td>2018-07</td>\n",
       "      <td>0.751633</td>\n",
       "    </tr>\n",
       "    <tr>\n",
       "      <th>17</th>\n",
       "      <td>2018-08</td>\n",
       "      <td>0.690543</td>\n",
       "    </tr>\n",
       "  </tbody>\n",
       "</table>\n",
       "</div>"
      ],
      "text/plain": [
       "     Period  ARI Score\n",
       "0   2017-03   1.000000\n",
       "1   2017-04   0.829897\n",
       "2   2017-05   0.802712\n",
       "3   2017-06   0.828709\n",
       "4   2017-07   0.869943\n",
       "5   2017-08   0.832311\n",
       "6   2017-09   0.832942\n",
       "7   2017-10   0.853089\n",
       "8   2017-11   0.859914\n",
       "9   2017-12   0.664008\n",
       "10  2018-01   0.721739\n",
       "11  2018-02   0.840594\n",
       "12  2018-03   0.770458\n",
       "13  2018-04   0.704194\n",
       "14  2018-05   0.767061\n",
       "15  2018-06   0.659710\n",
       "16  2018-07   0.751633\n",
       "17  2018-08   0.690543"
      ]
     },
     "execution_count": 14,
     "metadata": {},
     "output_type": "execute_result"
    }
   ],
   "source": [
    "ARI_simulation"
   ]
  },
  {
   "cell_type": "code",
   "execution_count": 15,
   "id": "25f39f73",
   "metadata": {},
   "outputs": [
    {
     "data": {
      "image/png": "[encoded data removed]",
      "text/plain": [
       "<Figure size 1440x1152 with 1 Axes>"
      ]
     },
     "metadata": {
      "needs_background": "light"
     },
     "output_type": "display_data"
    }
   ],
   "source": [
    "import matplotlib.pyplot as plt\n",
    "import seaborn as sns\n",
    "\n",
    "plt.figure(figsize=(20, 16))\n",
    "sns.set_theme(style=\"whitegrid\")\n",
    "\n",
    "ax = sns.barplot(x=\"Period\", y=\"ARI Score\", data=ARI_simulation)"
   ]
  }
 ],
 "metadata": {
  "kernelspec": {
   "display_name": "Python 3 (ipykernel)",
   "language": "python",
   "name": "python3"
  },
  "language_info": {
   "codemirror_mode": {
    "name": "ipython",
    "version": 3
   },
   "file_extension": ".py",
   "mimetype": "text/x-python",
   "name": "python",
   "nbconvert_exporter": "python",
   "pygments_lexer": "ipython3",
   "version": "3.8.12"
  }
 },
 "nbformat": 4,
 "nbformat_minor": 5
}
